{
 "cells": [
  {
   "cell_type": "code",
   "execution_count": 3,
   "id": "7accdfd2-5b0b-41fc-9aab-d40a17356681",
   "metadata": {},
   "outputs": [],
   "source": [
    "## Variance Inflation Factor"
   ]
  },
  {
   "cell_type": "code",
   "execution_count": 4,
   "id": "ea4d689a-4a92-46d4-aa8a-083e6910cfec",
   "metadata": {},
   "outputs": [],
   "source": [
    "import pandas as pd\n",
    "import numpy as np\n",
    "from matplotlib import pyplot as plt,style\n",
    "style.use('ggplot')"
   ]
  },
  {
   "cell_type": "code",
   "execution_count": 5,
   "id": "56e5a6e3-209d-4455-9f6e-53e2c5a80e7c",
   "metadata": {},
   "outputs": [],
   "source": [
    "df=pd.read_csv('house.csv')"
   ]
  },
  {
   "cell_type": "code",
   "execution_count": 6,
   "id": "02819df7-5a45-4fc7-b743-c162470ff3ac",
   "metadata": {},
   "outputs": [
    {
     "data": {
      "text/html": [
       "<div>\n",
       "<style scoped>\n",
       "    .dataframe tbody tr th:only-of-type {\n",
       "        vertical-align: middle;\n",
       "    }\n",
       "\n",
       "    .dataframe tbody tr th {\n",
       "        vertical-align: top;\n",
       "    }\n",
       "\n",
       "    .dataframe thead th {\n",
       "        text-align: right;\n",
       "    }\n",
       "</style>\n",
       "<table border=\"1\" class=\"dataframe\">\n",
       "  <thead>\n",
       "    <tr style=\"text-align: right;\">\n",
       "      <th></th>\n",
       "      <th>Bathrooms</th>\n",
       "      <th>Offers</th>\n",
       "      <th>Bedrooms</th>\n",
       "      <th>SqFt</th>\n",
       "      <th>Price</th>\n",
       "      <th>Brick_Yes</th>\n",
       "      <th>Neighborhood_North</th>\n",
       "      <th>Neighborhood_West</th>\n",
       "    </tr>\n",
       "  </thead>\n",
       "  <tbody>\n",
       "    <tr>\n",
       "      <th>0</th>\n",
       "      <td>2</td>\n",
       "      <td>2</td>\n",
       "      <td>2</td>\n",
       "      <td>1790</td>\n",
       "      <td>114300</td>\n",
       "      <td>0</td>\n",
       "      <td>0</td>\n",
       "      <td>0</td>\n",
       "    </tr>\n",
       "    <tr>\n",
       "      <th>1</th>\n",
       "      <td>2</td>\n",
       "      <td>3</td>\n",
       "      <td>4</td>\n",
       "      <td>2030</td>\n",
       "      <td>114200</td>\n",
       "      <td>0</td>\n",
       "      <td>0</td>\n",
       "      <td>0</td>\n",
       "    </tr>\n",
       "    <tr>\n",
       "      <th>2</th>\n",
       "      <td>2</td>\n",
       "      <td>1</td>\n",
       "      <td>3</td>\n",
       "      <td>1740</td>\n",
       "      <td>114800</td>\n",
       "      <td>0</td>\n",
       "      <td>0</td>\n",
       "      <td>0</td>\n",
       "    </tr>\n",
       "    <tr>\n",
       "      <th>3</th>\n",
       "      <td>2</td>\n",
       "      <td>3</td>\n",
       "      <td>3</td>\n",
       "      <td>1980</td>\n",
       "      <td>94700</td>\n",
       "      <td>0</td>\n",
       "      <td>0</td>\n",
       "      <td>0</td>\n",
       "    </tr>\n",
       "    <tr>\n",
       "      <th>4</th>\n",
       "      <td>3</td>\n",
       "      <td>3</td>\n",
       "      <td>3</td>\n",
       "      <td>2130</td>\n",
       "      <td>119800</td>\n",
       "      <td>0</td>\n",
       "      <td>0</td>\n",
       "      <td>0</td>\n",
       "    </tr>\n",
       "  </tbody>\n",
       "</table>\n",
       "</div>"
      ],
      "text/plain": [
       "   Bathrooms  Offers  Bedrooms  SqFt   Price  Brick_Yes  Neighborhood_North  \\\n",
       "0          2       2         2  1790  114300          0                   0   \n",
       "1          2       3         4  2030  114200          0                   0   \n",
       "2          2       1         3  1740  114800          0                   0   \n",
       "3          2       3         3  1980   94700          0                   0   \n",
       "4          3       3         3  2130  119800          0                   0   \n",
       "\n",
       "   Neighborhood_West  \n",
       "0                  0  \n",
       "1                  0  \n",
       "2                  0  \n",
       "3                  0  \n",
       "4                  0  "
      ]
     },
     "execution_count": 6,
     "metadata": {},
     "output_type": "execute_result"
    }
   ],
   "source": [
    "# Data Preparation\n",
    "\n",
    "## Feature Encoding\n",
    "df_dummy = pd.get_dummies(data=df,columns=['Brick','Neighborhood'],drop_first=True)\n",
    "df_dummy.head()"
   ]
  },
  {
   "cell_type": "code",
   "execution_count": 7,
   "id": "b3ddfb11-9fc7-4911-86f4-55773b97ffb8",
   "metadata": {},
   "outputs": [],
   "source": [
    "from statsmodels.stats.outliers_influence import variance_inflation_factor"
   ]
  },
  {
   "cell_type": "code",
   "execution_count": 8,
   "id": "f50b833d-be31-4e1d-9eb5-347d65f60a74",
   "metadata": {},
   "outputs": [],
   "source": [
    "data = df_dummy.drop(columns='Price')"
   ]
  },
  {
   "cell_type": "code",
   "execution_count": 9,
   "id": "66912dd9-0945-4a8a-a616-fa21a0409126",
   "metadata": {},
   "outputs": [
    {
     "data": {
      "text/html": [
       "<div>\n",
       "<style scoped>\n",
       "    .dataframe tbody tr th:only-of-type {\n",
       "        vertical-align: middle;\n",
       "    }\n",
       "\n",
       "    .dataframe tbody tr th {\n",
       "        vertical-align: top;\n",
       "    }\n",
       "\n",
       "    .dataframe thead th {\n",
       "        text-align: right;\n",
       "    }\n",
       "</style>\n",
       "<table border=\"1\" class=\"dataframe\">\n",
       "  <thead>\n",
       "    <tr style=\"text-align: right;\">\n",
       "      <th></th>\n",
       "      <th>Bathrooms</th>\n",
       "      <th>Offers</th>\n",
       "      <th>Bedrooms</th>\n",
       "      <th>SqFt</th>\n",
       "      <th>Brick_Yes</th>\n",
       "      <th>Neighborhood_North</th>\n",
       "      <th>Neighborhood_West</th>\n",
       "    </tr>\n",
       "  </thead>\n",
       "  <tbody>\n",
       "    <tr>\n",
       "      <th>0</th>\n",
       "      <td>2</td>\n",
       "      <td>2</td>\n",
       "      <td>2</td>\n",
       "      <td>1790</td>\n",
       "      <td>0</td>\n",
       "      <td>0</td>\n",
       "      <td>0</td>\n",
       "    </tr>\n",
       "    <tr>\n",
       "      <th>1</th>\n",
       "      <td>2</td>\n",
       "      <td>3</td>\n",
       "      <td>4</td>\n",
       "      <td>2030</td>\n",
       "      <td>0</td>\n",
       "      <td>0</td>\n",
       "      <td>0</td>\n",
       "    </tr>\n",
       "    <tr>\n",
       "      <th>2</th>\n",
       "      <td>2</td>\n",
       "      <td>1</td>\n",
       "      <td>3</td>\n",
       "      <td>1740</td>\n",
       "      <td>0</td>\n",
       "      <td>0</td>\n",
       "      <td>0</td>\n",
       "    </tr>\n",
       "    <tr>\n",
       "      <th>3</th>\n",
       "      <td>2</td>\n",
       "      <td>3</td>\n",
       "      <td>3</td>\n",
       "      <td>1980</td>\n",
       "      <td>0</td>\n",
       "      <td>0</td>\n",
       "      <td>0</td>\n",
       "    </tr>\n",
       "    <tr>\n",
       "      <th>4</th>\n",
       "      <td>3</td>\n",
       "      <td>3</td>\n",
       "      <td>3</td>\n",
       "      <td>2130</td>\n",
       "      <td>0</td>\n",
       "      <td>0</td>\n",
       "      <td>0</td>\n",
       "    </tr>\n",
       "  </tbody>\n",
       "</table>\n",
       "</div>"
      ],
      "text/plain": [
       "   Bathrooms  Offers  Bedrooms  SqFt  Brick_Yes  Neighborhood_North  \\\n",
       "0          2       2         2  1790          0                   0   \n",
       "1          2       3         4  2030          0                   0   \n",
       "2          2       1         3  1740          0                   0   \n",
       "3          2       3         3  1980          0                   0   \n",
       "4          3       3         3  2130          0                   0   \n",
       "\n",
       "   Neighborhood_West  \n",
       "0                  0  \n",
       "1                  0  \n",
       "2                  0  \n",
       "3                  0  \n",
       "4                  0  "
      ]
     },
     "execution_count": 9,
     "metadata": {},
     "output_type": "execute_result"
    }
   ],
   "source": [
    "data.head()"
   ]
  },
  {
   "cell_type": "code",
   "execution_count": 16,
   "id": "92558c19-c819-466b-a7f8-1ac5676aeccf",
   "metadata": {},
   "outputs": [
    {
     "data": {
      "text/plain": [
       "Bathrooms             35.632902\n",
       "Offers                10.591656\n",
       "Bedrooms              31.028044\n",
       "SqFt                  57.607757\n",
       "Brick_Yes              1.637724\n",
       "Neighborhood_North     2.121365\n",
       "Neighborhood_West      2.436297\n",
       "dtype: float64"
      ]
     },
     "execution_count": 16,
     "metadata": {},
     "output_type": "execute_result"
    }
   ],
   "source": [
    "pd.Series([variance_inflation_factor(data.values,i) for i in range(0,data.shape[1])],index=data.columns)\n",
    "\n",
    "#Predict Bathrooms taking other features (offers,bedrooms,sqft,brick_yes,ne_noth,nei_west) to calculate R squared and\n",
    "# for calculating VIF = 1/1-R-squared, now the bathrooms coming to 35.632909"
   ]
  },
  {
   "cell_type": "code",
   "execution_count": 17,
   "id": "9e442565-189c-4d67-a482-dee9e43d27c0",
   "metadata": {},
   "outputs": [
    {
     "name": "stdout",
     "output_type": "stream",
     "text": [
      "35.632901553298055\n",
      "10.591655827582377\n",
      "31.028044452273534\n",
      "57.60775699450441\n",
      "1.6377236928141587\n",
      "2.1213648792322646\n",
      "2.4362969178112834\n"
     ]
    }
   ],
   "source": [
    "for i in range(0,data.shape[1]):\n",
    "    print(variance_inflation_factor(data.values,i))\n",
    "    \n",
    "    "
   ]
  },
  {
   "cell_type": "code",
   "execution_count": 18,
   "id": "212075dd-55e4-4d8f-a53f-b2cd682fc6bd",
   "metadata": {},
   "outputs": [],
   "source": [
    "data_wo_Sqft = data.drop(columns='SqFt')"
   ]
  },
  {
   "cell_type": "code",
   "execution_count": 21,
   "id": "f5070636-c350-432f-a07d-c957f9ca1c49",
   "metadata": {},
   "outputs": [
    {
     "data": {
      "text/plain": [
       "Bathrooms             21.675548\n",
       "Offers                 9.890663\n",
       "Bedrooms              22.729309\n",
       "Brick_Yes              1.623109\n",
       "Neighborhood_North     2.052417\n",
       "Neighborhood_West      2.431954\n",
       "dtype: float64"
      ]
     },
     "execution_count": 21,
     "metadata": {},
     "output_type": "execute_result"
    }
   ],
   "source": [
    "pd.Series([variance_inflation_factor(data_wo_Sqft.values,i) for i in range(0,data_wo_Sqft.shape[1])],index=data_wo_Sqft.columns)\n",
    "\n",
    "#Predict Bathrooms taking other features (offers,bedrooms,sqft,brick_yes,ne_noth,nei_west) to calculate R squared and\n",
    "# for calculating VIF = 1/1-R-squared, now the bathrooms coming to 21.675548\n",
    "# R-Squared "
   ]
  },
  {
   "cell_type": "code",
   "execution_count": 22,
   "id": "b5419346-8a39-4044-b6f3-e6936abf1598",
   "metadata": {},
   "outputs": [],
   "source": [
    "# cut-off either 5 or 10 \n",
    "# \"Offers\" is 9.890663 which is within the cutt-off 10\n",
    "# dropping of feature needs to be done one by one recaculate VIF and within the range\n",
    "# onlyt do this if the model is overfitted,\n",
    "\n",
    "train was 86% and test is 85%\n",
    "\n"
   ]
  },
  {
   "cell_type": "code",
   "execution_count": null,
   "id": "cb7d4f8e-9414-46dc-aa08-746d1ab4abba",
   "metadata": {},
   "outputs": [],
   "source": []
  }
 ],
 "metadata": {
  "kernelspec": {
   "display_name": "Python 3 [3.10]",
   "language": "python",
   "name": "python3"
  },
  "language_info": {
   "codemirror_mode": {
    "name": "ipython",
    "version": 3
   },
   "file_extension": ".py",
   "mimetype": "text/x-python",
   "name": "python",
   "nbconvert_exporter": "python",
   "pygments_lexer": "ipython3",
   "version": "3.10.2"
  }
 },
 "nbformat": 4,
 "nbformat_minor": 5
}
